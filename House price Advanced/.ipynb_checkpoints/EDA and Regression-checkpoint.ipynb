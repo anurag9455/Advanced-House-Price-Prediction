{
 "cells": [
  {
   "cell_type": "code",
   "execution_count": null,
   "metadata": {
    "_cell_guid": "b1076dfc-b9ad-4769-8c92-a6c4dae69d19",
    "_uuid": "8f2839f25d086af736a60e9eeb907d3b93b6e0e5",
    "execution": {
     "iopub.execute_input": "2021-12-24T06:45:32.543398Z",
     "iopub.status.busy": "2021-12-24T06:45:32.542466Z",
     "iopub.status.idle": "2021-12-24T06:45:32.57691Z",
     "shell.execute_reply": "2021-12-24T06:45:32.576119Z",
     "shell.execute_reply.started": "2021-12-24T06:45:32.543289Z"
    }
   },
   "outputs": [],
   "source": [
    "# This Python 3 environment comes with many helpful analytics libraries installed\n",
    "# It is defined by the kaggle/python Docker image: https://github.com/kaggle/docker-python\n",
    "# For example, here's several helpful packages to load\n",
    "\n",
    "import numpy as np # linear algebra\n",
    "import pandas as pd # data processing, CSV file I/O (e.g. pd.read_csv)\n",
    "\n",
    "# Input data files are available in the read-only \"../input/\" directory\n",
    "# For example, running this (by clicking run or pressing Shift+Enter) will list all files under the input directory\n",
    "\n",
    "import os\n",
    "for dirname, _, filenames in os.walk('/kaggle/input'):\n",
    "    for filename in filenames:\n",
    "        print(os.path.join(dirname, filename))\n",
    "\n",
    "# You can write up to 20GB to the current directory (/kaggle/working/) that gets preserved as output when you create a version using \"Save & Run All\" \n",
    "# You can also write temporary files to /kaggle/temp/, but they won't be saved outside of the current session"
   ]
  },
  {
   "cell_type": "code",
   "execution_count": null,
   "metadata": {
    "execution": {
     "iopub.execute_input": "2021-12-24T06:45:32.57914Z",
     "iopub.status.busy": "2021-12-24T06:45:32.578164Z",
     "iopub.status.idle": "2021-12-24T06:45:43.894199Z",
     "shell.execute_reply": "2021-12-24T06:45:43.893223Z",
     "shell.execute_reply.started": "2021-12-24T06:45:32.579071Z"
    }
   },
   "outputs": [],
   "source": [
    "pip install feature_engine"
   ]
  },
  {
   "cell_type": "code",
   "execution_count": null,
   "metadata": {
    "execution": {
     "iopub.execute_input": "2021-12-24T06:45:43.896261Z",
     "iopub.status.busy": "2021-12-24T06:45:43.89569Z",
     "iopub.status.idle": "2021-12-24T06:45:44.806478Z",
     "shell.execute_reply": "2021-12-24T06:45:44.805454Z",
     "shell.execute_reply.started": "2021-12-24T06:45:43.896225Z"
    }
   },
   "outputs": [],
   "source": [
    "# Importing all the necessary libraries\n",
    "\n",
    "import seaborn as sns\n",
    "import matplotlib.pyplot as plt\n",
    "pd.pandas.set_option('display.max.columns',None)\n",
    "import warnings\n",
    "warnings.filterwarnings('ignore')"
   ]
  },
  {
   "cell_type": "code",
   "execution_count": null,
   "metadata": {
    "execution": {
     "iopub.execute_input": "2021-12-24T06:45:44.809009Z",
     "iopub.status.busy": "2021-12-24T06:45:44.808756Z",
     "iopub.status.idle": "2021-12-24T06:45:44.947965Z",
     "shell.execute_reply": "2021-12-24T06:45:44.947079Z",
     "shell.execute_reply.started": "2021-12-24T06:45:44.808979Z"
    }
   },
   "outputs": [],
   "source": [
    "# Importing the train dataset\n",
    "\n",
    "df=pd.read_csv('/kaggle/input/house-prices-advanced-regression-techniques/train.csv')\n",
    "X_test=pd.read_csv('/kaggle/input/house-prices-advanced-regression-techniques/test.csv')\n",
    "df.head()"
   ]
  },
  {
   "cell_type": "code",
   "execution_count": null,
   "metadata": {
    "execution": {
     "iopub.execute_input": "2021-12-24T06:45:44.950063Z",
     "iopub.status.busy": "2021-12-24T06:45:44.949838Z",
     "iopub.status.idle": "2021-12-24T06:45:44.95709Z",
     "shell.execute_reply": "2021-12-24T06:45:44.956219Z",
     "shell.execute_reply.started": "2021-12-24T06:45:44.950036Z"
    }
   },
   "outputs": [],
   "source": [
    "X_test.shape"
   ]
  },
  {
   "cell_type": "code",
   "execution_count": null,
   "metadata": {
    "execution": {
     "iopub.execute_input": "2021-12-24T06:45:44.958968Z",
     "iopub.status.busy": "2021-12-24T06:45:44.95872Z",
     "iopub.status.idle": "2021-12-24T06:45:44.968837Z",
     "shell.execute_reply": "2021-12-24T06:45:44.968143Z",
     "shell.execute_reply.started": "2021-12-24T06:45:44.95894Z"
    }
   },
   "outputs": [],
   "source": [
    "df.shape"
   ]
  },
  {
   "cell_type": "code",
   "execution_count": null,
   "metadata": {
    "execution": {
     "iopub.execute_input": "2021-12-24T06:45:44.969986Z",
     "iopub.status.busy": "2021-12-24T06:45:44.969762Z",
     "iopub.status.idle": "2021-12-24T06:45:45.098178Z",
     "shell.execute_reply": "2021-12-24T06:45:45.097059Z",
     "shell.execute_reply.started": "2021-12-24T06:45:44.969959Z"
    }
   },
   "outputs": [],
   "source": [
    "df.describe()"
   ]
  },
  {
   "cell_type": "code",
   "execution_count": null,
   "metadata": {
    "execution": {
     "iopub.execute_input": "2021-12-24T06:45:45.099825Z",
     "iopub.status.busy": "2021-12-24T06:45:45.099566Z",
     "iopub.status.idle": "2021-12-24T06:45:45.128953Z",
     "shell.execute_reply": "2021-12-24T06:45:45.127899Z",
     "shell.execute_reply.started": "2021-12-24T06:45:45.099798Z"
    }
   },
   "outputs": [],
   "source": [
    "df.info()"
   ]
  },
  {
   "cell_type": "markdown",
   "metadata": {},
   "source": [
    "# Starting With EDA"
   ]
  },
  {
   "cell_type": "markdown",
   "metadata": {},
   "source": [
    "# Missing Features"
   ]
  },
  {
   "cell_type": "code",
   "execution_count": null,
   "metadata": {
    "execution": {
     "iopub.execute_input": "2021-12-24T06:45:45.130326Z",
     "iopub.status.busy": "2021-12-24T06:45:45.130113Z",
     "iopub.status.idle": "2021-12-24T06:45:45.161026Z",
     "shell.execute_reply": "2021-12-24T06:45:45.159879Z",
     "shell.execute_reply.started": "2021-12-24T06:45:45.130301Z"
    }
   },
   "outputs": [],
   "source": [
    "# Finding out the missing Variables and putting them into a list\n",
    "\n",
    "missing_features=[features for features in df.columns if df[features].isnull().sum()>=1]\n",
    "len(missing_features)"
   ]
  },
  {
   "cell_type": "code",
   "execution_count": null,
   "metadata": {
    "execution": {
     "iopub.execute_input": "2021-12-24T06:45:45.164514Z",
     "iopub.status.busy": "2021-12-24T06:45:45.164207Z",
     "iopub.status.idle": "2021-12-24T06:45:45.196147Z",
     "shell.execute_reply": "2021-12-24T06:45:45.194001Z",
     "shell.execute_reply.started": "2021-12-24T06:45:45.164483Z"
    }
   },
   "outputs": [],
   "source": [
    "# How many missing values are there in each feature (Percentage Values%)\n",
    "\n",
    "for features in missing_features:\n",
    "    print(features,'has :',np.round((df[features].isnull().mean())*100,4),'% missing Values')"
   ]
  },
  {
   "cell_type": "code",
   "execution_count": null,
   "metadata": {
    "execution": {
     "iopub.execute_input": "2021-12-24T06:45:45.19786Z",
     "iopub.status.busy": "2021-12-24T06:45:45.197268Z",
     "iopub.status.idle": "2021-12-24T06:45:48.475782Z",
     "shell.execute_reply": "2021-12-24T06:45:48.475172Z",
     "shell.execute_reply.started": "2021-12-24T06:45:45.197823Z"
    }
   },
   "outputs": [],
   "source": [
    "# Establishing the relation between Missing Values and the dependent feature Price\n",
    "sns.set_style('darkgrid')\n",
    "fig=plt.figure(figsize=(14,100))\n",
    "\n",
    "a=len(missing_features) # Number of rows in the subplot\n",
    "b=2                     # Number of plots in each row\n",
    "c=1                     # Figure Counter\n",
    "\n",
    "# Making a copy of the dataset\n",
    "data=df.copy()  \n",
    "\n",
    "for features in missing_features:\n",
    "     # Converting all the null values to 0 & 1\n",
    "    data[features]=np.where(data[features].isnull(),1,0)\n",
    "    \n",
    "    plt.subplot(a,b,c)\n",
    "    # Ploting the median prices for each feature with respect to missing values.\n",
    "    data.groupby(features)['SalePrice'].median().plot.bar(color= 'teal')\n",
    "    plt.xticks(rotation=0) # Using Xticks so that the labels are not inverted as default.\n",
    "    c=c+1\n",
    "\n",
    "fig.tight_layout()    \n",
    "plt.show()"
   ]
  },
  {
   "cell_type": "markdown",
   "metadata": {},
   "source": [
    "> **From the Above figures we can easily derive that there is clear relationship between sale price and missing features.**\n",
    "   * Price is higher for missing values in the below features\n",
    "                  1. Lot Frontage\n",
    "                  2. Alley\n",
    "                  3. MasVnrType\n",
    "                  4. MasVnrArea\n",
    "                  5. Electrical\n",
    "                  6. Fence\n",
    "                  7. Misc Features\n",
    "   * Price is Lower for missing values in the below features\n",
    "                  1. Bsmt Quality\n",
    "                  2. Bsmt Condition\n",
    "                  3. Bsmt Exposure\n",
    "                  4. Bsmt FinType 1\n",
    "                  5. Bsmt FinType 2\n",
    "                  6. Fireplace Quality\n",
    "                  7. Garage Type\n",
    "                  8. Garage YrBuilt\n",
    "                  9. Garage Finish\n",
    "                 10. Garage Quality\n",
    "                 11. Garage Condition\n",
    "                 12. Pool QC"
   ]
  },
  {
   "cell_type": "markdown",
   "metadata": {},
   "source": [
    "# Numerical Features"
   ]
  },
  {
   "cell_type": "code",
   "execution_count": null,
   "metadata": {
    "execution": {
     "iopub.execute_input": "2021-12-24T06:45:48.477501Z",
     "iopub.status.busy": "2021-12-24T06:45:48.477063Z",
     "iopub.status.idle": "2021-12-24T06:45:48.488627Z",
     "shell.execute_reply": "2021-12-24T06:45:48.48776Z",
     "shell.execute_reply.started": "2021-12-24T06:45:48.477469Z"
    }
   },
   "outputs": [],
   "source": [
    "# We will find all the numerical features in the dataset\n",
    "numerical_features = [features for features in df.columns if df[features].dtype !='O' and features!='Id']\n",
    "numerical_features"
   ]
  },
  {
   "cell_type": "markdown",
   "metadata": {},
   "source": [
    "> *We have a few Temporal Variables in the Numerical features (All the Year features i.e Datetime Features)*\n",
    "  **lets Extract the Temporal Variables**"
   ]
  },
  {
   "cell_type": "markdown",
   "metadata": {},
   "source": [
    "# Temporal Variables"
   ]
  },
  {
   "cell_type": "code",
   "execution_count": null,
   "metadata": {
    "execution": {
     "iopub.execute_input": "2021-12-24T06:45:48.490875Z",
     "iopub.status.busy": "2021-12-24T06:45:48.490466Z",
     "iopub.status.idle": "2021-12-24T06:45:48.503531Z",
     "shell.execute_reply": "2021-12-24T06:45:48.502763Z",
     "shell.execute_reply.started": "2021-12-24T06:45:48.490828Z"
    }
   },
   "outputs": [],
   "source": [
    "# Temporal Variables\n",
    "year_feature = [features for features in numerical_features if 'Yr' in features or 'Year' in features]\n",
    "year_feature"
   ]
  },
  {
   "cell_type": "code",
   "execution_count": null,
   "metadata": {
    "execution": {
     "iopub.execute_input": "2021-12-24T06:45:48.505677Z",
     "iopub.status.busy": "2021-12-24T06:45:48.504723Z",
     "iopub.status.idle": "2021-12-24T06:45:49.58537Z",
     "shell.execute_reply": "2021-12-24T06:45:49.583791Z",
     "shell.execute_reply.started": "2021-12-24T06:45:48.505638Z"
    }
   },
   "outputs": [],
   "source": [
    "# Establishing relationship between Year Features and dependent feature Sale Prcie\n",
    "\n",
    "sns.set_style('darkgrid')\n",
    "fig=plt.figure(figsize=(14,22))\n",
    "\n",
    "a=len(year_feature)   # No. of rows in subplot\n",
    "b=2                   # No. of plots in each row\n",
    "c=1                   # Figure Counter\n",
    "\n",
    "data=df.copy()  # Making a dataset copy\n",
    "\n",
    "for features in year_feature:\n",
    "    plt.subplot(a,b,c)\n",
    "    \n",
    "    # Plotting median prices for each features grouping by Year\n",
    "    data.groupby(features)['SalePrice'].median().plot(color='green')\n",
    "    plt.xticks(rotation=0)  # Using Xticks so that the label in in proper orientation\n",
    "    c=c+1 # Incrementing figure counter\n",
    "\n",
    "fig.tight_layout()\n",
    "plt.show()"
   ]
  },
  {
   "cell_type": "markdown",
   "metadata": {},
   "source": [
    "> **Conclusion**\n",
    "* As we can see there is an incremental growth in price as the years keep increasing where as with year sold the price is decreasing.\n",
    "       1. This may occur for one reason that is the price of the houses are decreasing as the houses are getting older.\n",
    " **We will try to verify the same in the next cell.**"
   ]
  },
  {
   "cell_type": "code",
   "execution_count": null,
   "metadata": {
    "execution": {
     "iopub.execute_input": "2021-12-24T06:45:49.587669Z",
     "iopub.status.busy": "2021-12-24T06:45:49.58716Z",
     "iopub.status.idle": "2021-12-24T06:45:50.611786Z",
     "shell.execute_reply": "2021-12-24T06:45:50.611187Z",
     "shell.execute_reply.started": "2021-12-24T06:45:49.587626Z"
    }
   },
   "outputs": [],
   "source": [
    "# Lets plot the difference between each Year Feature with YrSold\n",
    "\n",
    "sns.set_style('darkgrid')\n",
    "fig=plt.figure(figsize=(14,22))\n",
    "\n",
    "a=len(year_feature)   # No. of rows in subplot\n",
    "b=2                   # No. of plots in each row\n",
    "c=1                   # Figure Counter\n",
    "\n",
    "data=df.copy()  # Making a dataset copy\n",
    "\n",
    "for features in year_feature:\n",
    "    if features != 'YrSold':\n",
    "        # Finding the difference between Year feature and Year Sold\n",
    "        data[features] = data['YrSold'] - data[features]\n",
    "        plt.subplot(a,b,c)\n",
    "        data.groupby(features)['SalePrice'].median().plot(color='black')\n",
    "        c = c+1\n",
    "\n",
    "fig.tight_layout()\n",
    "plt.show()"
   ]
  },
  {
   "cell_type": "markdown",
   "metadata": {},
   "source": [
    "> **This proves our finding that the Sale Price is decreasing as the age of the houses are increasing**"
   ]
  },
  {
   "cell_type": "markdown",
   "metadata": {},
   "source": [
    "# Discrete Features (Numerical Features)"
   ]
  },
  {
   "cell_type": "code",
   "execution_count": null,
   "metadata": {
    "execution": {
     "iopub.execute_input": "2021-12-24T06:45:50.612995Z",
     "iopub.status.busy": "2021-12-24T06:45:50.612688Z",
     "iopub.status.idle": "2021-12-24T06:45:50.627523Z",
     "shell.execute_reply": "2021-12-24T06:45:50.626242Z",
     "shell.execute_reply.started": "2021-12-24T06:45:50.612969Z"
    }
   },
   "outputs": [],
   "source": [
    "# We are considering 25 as the threashold value of discrete featuers.\n",
    "# Lets get all the discrete features in a list\n",
    "\n",
    "discrete_features = [features for features in numerical_features if(len(df[features].unique())<25) and features not in year_feature]\n",
    "discrete_features"
   ]
  },
  {
   "cell_type": "code",
   "execution_count": null,
   "metadata": {
    "execution": {
     "iopub.execute_input": "2021-12-24T06:45:50.629716Z",
     "iopub.status.busy": "2021-12-24T06:45:50.629173Z",
     "iopub.status.idle": "2021-12-24T06:45:58.743357Z",
     "shell.execute_reply": "2021-12-24T06:45:58.742071Z",
     "shell.execute_reply.started": "2021-12-24T06:45:50.629654Z"
    }
   },
   "outputs": [],
   "source": [
    "# Exploring relationship between discrete features and dependent feature (SalePrice)\n",
    "\n",
    "sns.set_style('darkgrid')\n",
    "fig=plt.figure(figsize=(14,100))\n",
    "\n",
    "a=len(discrete_features)   # No. of rows in subplot\n",
    "b=2                        # No. of plots in each row\n",
    "c=1                        # Figure Counter\n",
    "\n",
    "data=df.copy()  # Making a dataset copy\n",
    "\n",
    "for features in discrete_features:\n",
    "    plt.subplot(a,b,c)\n",
    "    # Plotting median prices for each features grouping by discrete features\n",
    "    data.groupby(features)['SalePrice'].median().plot(kind='bar',color='red')\n",
    "    plt.xticks(rotation=0)  # Using Xticks so that the label in in proper orientation\n",
    "    c = c + 1 # Incrementing figure counter\n",
    "    \n",
    "    plt.subplot(a,b,c)\n",
    "    sns.boxplot(x = data[features], color = 'skyblue')  # To check for outliers\n",
    "    c = c + 1  # Incrementing figure counter\n",
    "     \n",
    "\n",
    "fig.tight_layout()\n",
    "plt.show()"
   ]
  },
  {
   "cell_type": "markdown",
   "metadata": {},
   "source": [
    "> **There is a clear monotonic relationship between between some features with sale price and the others have messy relationship. All the features do have a lot of outliers except MoSold which has be taken care of in the feature engineering part.**"
   ]
  },
  {
   "cell_type": "markdown",
   "metadata": {},
   "source": [
    "# Continious Features (Numerical Features)"
   ]
  },
  {
   "cell_type": "code",
   "execution_count": null,
   "metadata": {
    "execution": {
     "iopub.execute_input": "2021-12-24T06:45:58.745619Z",
     "iopub.status.busy": "2021-12-24T06:45:58.744965Z",
     "iopub.status.idle": "2021-12-24T06:45:58.75562Z",
     "shell.execute_reply": "2021-12-24T06:45:58.754406Z",
     "shell.execute_reply.started": "2021-12-24T06:45:58.745564Z"
    }
   },
   "outputs": [],
   "source": [
    "# Lets get all the continious Features in a list\n",
    "\n",
    "continious_features = [features for features in numerical_features if features not in discrete_features + year_feature + ['Id']]\n",
    "continious_features"
   ]
  },
  {
   "cell_type": "code",
   "execution_count": null,
   "metadata": {
    "execution": {
     "iopub.execute_input": "2021-12-24T06:45:58.757953Z",
     "iopub.status.busy": "2021-12-24T06:45:58.757091Z",
     "iopub.status.idle": "2021-12-24T06:46:08.276009Z",
     "shell.execute_reply": "2021-12-24T06:46:08.275026Z",
     "shell.execute_reply.started": "2021-12-24T06:45:58.757908Z"
    }
   },
   "outputs": [],
   "source": [
    "# Lets find the distribution of the continious features.\n",
    "\n",
    "sns.set_style('darkgrid')\n",
    "fig=plt.figure(figsize=(14,100))\n",
    "\n",
    "a=len(continious_features)   # No. of rows in subplot\n",
    "b=2                        # No. of plots in each row\n",
    "c=1                        # Figure Counter\n",
    "\n",
    "data=df.copy()  # Making a dataset copy\n",
    "\n",
    "for features in continious_features:\n",
    "    plt.subplot(a,b,c)\n",
    "    # Distribution of the continious features\n",
    "    sns.histplot(x = data[features], kde = True , color = 'green')\n",
    "    c = c + 1 # Incrementing figure counter\n",
    "    \n",
    "    plt.subplot(a,b,c)\n",
    "    sns.boxplot(x = data[features], color = 'gold')  # To check for outliers\n",
    "    c = c + 1  # Incrementing figure counter\n",
    "     \n",
    "\n",
    "fig.tight_layout()\n",
    "plt.show()"
   ]
  },
  {
   "cell_type": "markdown",
   "metadata": {},
   "source": [
    "> **The data is right skewed with all the features having outliers. We need to perform log normal transformation on these features.**"
   ]
  },
  {
   "cell_type": "code",
   "execution_count": null,
   "metadata": {
    "execution": {
     "iopub.execute_input": "2021-12-24T06:46:08.277731Z",
     "iopub.status.busy": "2021-12-24T06:46:08.277476Z",
     "iopub.status.idle": "2021-12-24T06:46:11.299935Z",
     "shell.execute_reply": "2021-12-24T06:46:11.298818Z",
     "shell.execute_reply.started": "2021-12-24T06:46:08.277688Z"
    }
   },
   "outputs": [],
   "source": [
    "# Log Normal Transformation on the continious features\n",
    "# Plotting them with dependent features as well\n",
    "\n",
    "sns.set_style('darkgrid')\n",
    "fig = plt.figure(figsize=(14,100))\n",
    "\n",
    "a = len(continious_features)    # No. of rows in the subplot\n",
    "b = 2                           # No. of columns in each row\n",
    "c = 1                           # Figure Counter\n",
    "\n",
    "data = df.copy()\n",
    "\n",
    "for features in continious_features:\n",
    "    if (0 in data[features].unique()):            # Explicitly ignoring the 0 values \n",
    "        pass\n",
    "    else:\n",
    "        plt.subplot(a,b,c)                      \n",
    "        data[features] = np.log(data[features])                              # Log Normal Transformation\n",
    "        sns.histplot(x = data[features] , kde=True, color = 'orange')        # Plotting the distributions of the features\n",
    "        c = c+1\n",
    "        \n",
    "        plt.subplot(a,b,c)\n",
    "        data['SalePrice'] = np.log(data['SalePrice'])                                   # Log Normal Transforation of the dependent feature\n",
    "        sns.scatterplot(x = data[features] , y = data['SalePrice'] , color = 'teal')    # Plotting dependent feature with log normally distributed continious feature\n",
    "        c = c+1\n",
    "\n",
    "fig.tight_layout()\n",
    "plt.show()"
   ]
  },
  {
   "cell_type": "markdown",
   "metadata": {},
   "source": [
    "> **After applying log normal distribution we can conclude that there is somewhat of a linear relationship between continious features and Sale Price**"
   ]
  },
  {
   "cell_type": "markdown",
   "metadata": {},
   "source": [
    "# Categorical Features "
   ]
  },
  {
   "cell_type": "code",
   "execution_count": null,
   "metadata": {
    "execution": {
     "iopub.execute_input": "2021-12-24T06:46:11.301736Z",
     "iopub.status.busy": "2021-12-24T06:46:11.301449Z",
     "iopub.status.idle": "2021-12-24T06:46:11.315903Z",
     "shell.execute_reply": "2021-12-24T06:46:11.314946Z",
     "shell.execute_reply.started": "2021-12-24T06:46:11.301688Z"
    }
   },
   "outputs": [],
   "source": [
    "# Lets get all the categorical features in a list\n",
    "\n",
    "categorical_features = [features for features in df.columns if df[features].dtype == 'O']\n",
    "categorical_features"
   ]
  },
  {
   "cell_type": "code",
   "execution_count": null,
   "metadata": {
    "execution": {
     "iopub.execute_input": "2021-12-24T06:46:11.3179Z",
     "iopub.status.busy": "2021-12-24T06:46:11.31748Z",
     "iopub.status.idle": "2021-12-24T06:46:11.367672Z",
     "shell.execute_reply": "2021-12-24T06:46:11.366754Z",
     "shell.execute_reply.started": "2021-12-24T06:46:11.317868Z"
    }
   },
   "outputs": [],
   "source": [
    "df[categorical_features].head()"
   ]
  },
  {
   "cell_type": "code",
   "execution_count": null,
   "metadata": {
    "execution": {
     "iopub.execute_input": "2021-12-24T06:46:11.369427Z",
     "iopub.status.busy": "2021-12-24T06:46:11.369042Z",
     "iopub.status.idle": "2021-12-24T06:46:20.816142Z",
     "shell.execute_reply": "2021-12-24T06:46:20.815065Z",
     "shell.execute_reply.started": "2021-12-24T06:46:11.369393Z"
    }
   },
   "outputs": [],
   "source": [
    "# Lets plot the relationship between categorical features and dependent feature\n",
    "\n",
    "sns.set_style('darkgrid')\n",
    "fig=plt.figure(figsize=(14,150))\n",
    "\n",
    "a=len(categorical_features)   # No. of rows in subplot\n",
    "b=2                           # No. of plots in each row\n",
    "c=1                           # Figure Counter\n",
    "\n",
    "data=df.copy()  # Making a dataset copy\n",
    "\n",
    "for features in categorical_features:\n",
    "    plt.subplot(a,b,c)\n",
    "    # Plotting the median values with Sale Price\n",
    "    data.groupby(features)['SalePrice'].median().plot(color='maroon',kind='bar')\n",
    "    plt.xticks(rotation=0)\n",
    "    c = c+1\n",
    "\n",
    "fig.tight_layout()\n",
    "plt.show()"
   ]
  },
  {
   "cell_type": "markdown",
   "metadata": {},
   "source": [
    "> **As we can see in the above plots there are few features with clear relationships and few with messy realtionships. We will use all of above collected data in feature engineering.**"
   ]
  },
  {
   "cell_type": "code",
   "execution_count": null,
   "metadata": {
    "execution": {
     "iopub.execute_input": "2021-12-24T06:46:20.817759Z",
     "iopub.status.busy": "2021-12-24T06:46:20.817489Z",
     "iopub.status.idle": "2021-12-24T06:46:20.845341Z",
     "shell.execute_reply": "2021-12-24T06:46:20.843902Z",
     "shell.execute_reply.started": "2021-12-24T06:46:20.817724Z"
    }
   },
   "outputs": [],
   "source": [
    "# Exploring how many subclasses are there in each of the categorical features\n",
    "\n",
    "for features in categorical_features:\n",
    "    print('There are {} subclasses in {}'.format(len(df[features].unique()),features))\n",
    "    "
   ]
  },
  {
   "cell_type": "markdown",
   "metadata": {},
   "source": [
    "> **So there are a few features which has more then 10 subclasses whereas the rest have around 3-8 subclasses which can be eaisly dealt with OneHotEncoding**"
   ]
  },
  {
   "cell_type": "markdown",
   "metadata": {},
   "source": [
    "# Featuring Engineering"
   ]
  },
  {
   "cell_type": "code",
   "execution_count": null,
   "metadata": {
    "execution": {
     "iopub.execute_input": "2021-12-24T06:46:20.848509Z",
     "iopub.status.busy": "2021-12-24T06:46:20.84815Z",
     "iopub.status.idle": "2021-12-24T06:46:20.910949Z",
     "shell.execute_reply": "2021-12-24T06:46:20.910298Z",
     "shell.execute_reply.started": "2021-12-24T06:46:20.848463Z"
    }
   },
   "outputs": [],
   "source": [
    "temp = X_test.copy()\n",
    "temp.head()"
   ]
  },
  {
   "cell_type": "code",
   "execution_count": null,
   "metadata": {
    "execution": {
     "iopub.execute_input": "2021-12-24T06:46:20.912898Z",
     "iopub.status.busy": "2021-12-24T06:46:20.911936Z",
     "iopub.status.idle": "2021-12-24T06:46:20.97635Z",
     "shell.execute_reply": "2021-12-24T06:46:20.975494Z",
     "shell.execute_reply.started": "2021-12-24T06:46:20.912864Z"
    }
   },
   "outputs": [],
   "source": [
    "# Lets start with handling the missing values starting with missing values in categorical features\n",
    "\n",
    "missing_categorical = [features for features in df.columns if df[features].isnull().sum()>=1 and df[features].dtype == 'O']\n",
    "missing_categorical_temp = [features for features in temp.columns if temp[features].isnull().sum()>=1 and temp[features].dtype == 'O']\n",
    "\n",
    "for features in missing_categorical:\n",
    "    print('{} : {} % Null Values'.format(features,np.round(df[features].isnull().mean(),4)))"
   ]
  },
  {
   "cell_type": "code",
   "execution_count": null,
   "metadata": {
    "execution": {
     "iopub.execute_input": "2021-12-24T06:46:20.977777Z",
     "iopub.status.busy": "2021-12-24T06:46:20.977527Z",
     "iopub.status.idle": "2021-12-24T06:46:21.003405Z",
     "shell.execute_reply": "2021-12-24T06:46:21.002755Z",
     "shell.execute_reply.started": "2021-12-24T06:46:20.977748Z"
    }
   },
   "outputs": [],
   "source": [
    "# Replacing missing values in categorial_features with new label \"missing\"\n",
    "\n",
    "def replace_cat(dataset,missing_categorical):\n",
    "    data=dataset.copy()\n",
    "    data[missing_categorical]=data[missing_categorical].fillna(\"missing\")\n",
    "    return data\n",
    "\n",
    "\n",
    "df = replace_cat(df,missing_categorical)\n",
    "temp = replace_cat(temp,missing_categorical_temp)"
   ]
  },
  {
   "cell_type": "code",
   "execution_count": null,
   "metadata": {
    "execution": {
     "iopub.execute_input": "2021-12-24T06:46:21.010277Z",
     "iopub.status.busy": "2021-12-24T06:46:21.009536Z",
     "iopub.status.idle": "2021-12-24T06:46:21.024537Z",
     "shell.execute_reply": "2021-12-24T06:46:21.023596Z",
     "shell.execute_reply.started": "2021-12-24T06:46:21.010234Z"
    }
   },
   "outputs": [],
   "source": [
    "df[missing_categorical].isnull().sum()"
   ]
  },
  {
   "cell_type": "code",
   "execution_count": null,
   "metadata": {
    "execution": {
     "iopub.execute_input": "2021-12-24T06:46:21.026957Z",
     "iopub.status.busy": "2021-12-24T06:46:21.026092Z",
     "iopub.status.idle": "2021-12-24T06:46:21.044196Z",
     "shell.execute_reply": "2021-12-24T06:46:21.043316Z",
     "shell.execute_reply.started": "2021-12-24T06:46:21.026901Z"
    }
   },
   "outputs": [],
   "source": [
    "temp[missing_categorical].isnull().sum()"
   ]
  },
  {
   "cell_type": "code",
   "execution_count": null,
   "metadata": {
    "execution": {
     "iopub.execute_input": "2021-12-24T06:46:21.046554Z",
     "iopub.status.busy": "2021-12-24T06:46:21.046069Z",
     "iopub.status.idle": "2021-12-24T06:46:21.088281Z",
     "shell.execute_reply": "2021-12-24T06:46:21.087171Z",
     "shell.execute_reply.started": "2021-12-24T06:46:21.046511Z"
    }
   },
   "outputs": [],
   "source": [
    "# Missing numerical features\n",
    "\n",
    "missing_numerical = [features for features in numerical_features if df[features].isnull().sum()>1]\n",
    "missing_numerical_temp = [features for features in temp.columns if temp[features].isnull().sum()>1 and temp[features].dtype !='O']"
   ]
  },
  {
   "cell_type": "code",
   "execution_count": null,
   "metadata": {
    "execution": {
     "iopub.execute_input": "2021-12-24T06:46:21.090057Z",
     "iopub.status.busy": "2021-12-24T06:46:21.089814Z",
     "iopub.status.idle": "2021-12-24T06:46:21.095221Z",
     "shell.execute_reply": "2021-12-24T06:46:21.094326Z",
     "shell.execute_reply.started": "2021-12-24T06:46:21.090026Z"
    }
   },
   "outputs": [],
   "source": [
    "# Function to impute missing numerical features\n",
    "\n",
    "def replace_num(dataset,missing):\n",
    "    \n",
    "    for features in missing:\n",
    "        median = dataset[features].median()\n",
    "        dataset[features] = dataset[features].fillna(median)\n",
    "    return dataset"
   ]
  },
  {
   "cell_type": "code",
   "execution_count": null,
   "metadata": {
    "execution": {
     "iopub.execute_input": "2021-12-24T06:46:21.097066Z",
     "iopub.status.busy": "2021-12-24T06:46:21.096731Z",
     "iopub.status.idle": "2021-12-24T06:46:21.115783Z",
     "shell.execute_reply": "2021-12-24T06:46:21.115073Z",
     "shell.execute_reply.started": "2021-12-24T06:46:21.097031Z"
    }
   },
   "outputs": [],
   "source": [
    "# Calling the impute function for train data\n",
    "df = replace_num(df,missing_numerical)\n",
    "\n",
    "df[missing_numerical].isnull().sum()"
   ]
  },
  {
   "cell_type": "code",
   "execution_count": null,
   "metadata": {
    "execution": {
     "iopub.execute_input": "2021-12-24T06:46:21.117903Z",
     "iopub.status.busy": "2021-12-24T06:46:21.117352Z",
     "iopub.status.idle": "2021-12-24T06:46:21.130926Z",
     "shell.execute_reply": "2021-12-24T06:46:21.129786Z",
     "shell.execute_reply.started": "2021-12-24T06:46:21.117829Z"
    }
   },
   "outputs": [],
   "source": [
    "# Calling the impute function for test data\n",
    "temp = replace_num(temp,missing_numerical_temp)\n",
    "\n",
    "temp[missing_numerical_temp].isnull().sum()"
   ]
  },
  {
   "cell_type": "code",
   "execution_count": null,
   "metadata": {
    "execution": {
     "iopub.execute_input": "2021-12-24T06:46:21.133319Z",
     "iopub.status.busy": "2021-12-24T06:46:21.132495Z",
     "iopub.status.idle": "2021-12-24T06:46:21.186553Z",
     "shell.execute_reply": "2021-12-24T06:46:21.185878Z",
     "shell.execute_reply.started": "2021-12-24T06:46:21.133283Z"
    }
   },
   "outputs": [],
   "source": [
    "missing_temp = [features for features in temp.columns if (temp[features].isnull().sum()>=1)]\n",
    "temp[missing_temp]"
   ]
  },
  {
   "cell_type": "code",
   "execution_count": null,
   "metadata": {
    "execution": {
     "iopub.execute_input": "2021-12-24T06:46:21.188185Z",
     "iopub.status.busy": "2021-12-24T06:46:21.187935Z",
     "iopub.status.idle": "2021-12-24T06:46:21.202874Z",
     "shell.execute_reply": "2021-12-24T06:46:21.201828Z",
     "shell.execute_reply.started": "2021-12-24T06:46:21.188153Z"
    }
   },
   "outputs": [],
   "source": [
    "temp = replace_num(temp,missing_temp)\n",
    "\n",
    "temp[missing_temp].isnull().sum()"
   ]
  },
  {
   "cell_type": "code",
   "execution_count": null,
   "metadata": {
    "execution": {
     "iopub.execute_input": "2021-12-24T06:46:21.204946Z",
     "iopub.status.busy": "2021-12-24T06:46:21.204126Z",
     "iopub.status.idle": "2021-12-24T06:46:21.265084Z",
     "shell.execute_reply": "2021-12-24T06:46:21.263993Z",
     "shell.execute_reply.started": "2021-12-24T06:46:21.204906Z"
    }
   },
   "outputs": [],
   "source": [
    "df.head()"
   ]
  },
  {
   "cell_type": "code",
   "execution_count": null,
   "metadata": {
    "execution": {
     "iopub.execute_input": "2021-12-24T06:46:21.267263Z",
     "iopub.status.busy": "2021-12-24T06:46:21.266419Z",
     "iopub.status.idle": "2021-12-24T06:46:21.335206Z",
     "shell.execute_reply": "2021-12-24T06:46:21.334391Z",
     "shell.execute_reply.started": "2021-12-24T06:46:21.267208Z"
    }
   },
   "outputs": [],
   "source": [
    "temp.head()"
   ]
  },
  {
   "cell_type": "code",
   "execution_count": null,
   "metadata": {
    "execution": {
     "iopub.execute_input": "2021-12-24T06:46:21.337155Z",
     "iopub.status.busy": "2021-12-24T06:46:21.336403Z",
     "iopub.status.idle": "2021-12-24T06:46:21.343638Z",
     "shell.execute_reply": "2021-12-24T06:46:21.342885Z",
     "shell.execute_reply.started": "2021-12-24T06:46:21.337079Z"
    }
   },
   "outputs": [],
   "source": [
    "# Dropping Id column\n",
    "df = df.drop('Id',axis=1)"
   ]
  },
  {
   "cell_type": "code",
   "execution_count": null,
   "metadata": {
    "execution": {
     "iopub.execute_input": "2021-12-24T06:46:21.34566Z",
     "iopub.status.busy": "2021-12-24T06:46:21.345186Z",
     "iopub.status.idle": "2021-12-24T06:46:21.356373Z",
     "shell.execute_reply": "2021-12-24T06:46:21.355621Z",
     "shell.execute_reply.started": "2021-12-24T06:46:21.345615Z"
    }
   },
   "outputs": [],
   "source": [
    "# Dropping Id column\n",
    "ID = temp['Id']\n",
    "temp = temp.drop('Id',axis=1)"
   ]
  },
  {
   "cell_type": "markdown",
   "metadata": {},
   "source": [
    "# Log Normal Transformation"
   ]
  },
  {
   "cell_type": "code",
   "execution_count": null,
   "metadata": {
    "execution": {
     "iopub.execute_input": "2021-12-24T06:46:21.358402Z",
     "iopub.status.busy": "2021-12-24T06:46:21.357932Z",
     "iopub.status.idle": "2021-12-24T06:46:21.369026Z",
     "shell.execute_reply": "2021-12-24T06:46:21.36813Z",
     "shell.execute_reply.started": "2021-12-24T06:46:21.358368Z"
    }
   },
   "outputs": [],
   "source": [
    "log_transform = [features for features in numerical_features if features not in year_feature]\n",
    "log_transform"
   ]
  },
  {
   "cell_type": "code",
   "execution_count": null,
   "metadata": {
    "execution": {
     "iopub.execute_input": "2021-12-24T06:46:21.370569Z",
     "iopub.status.busy": "2021-12-24T06:46:21.370312Z",
     "iopub.status.idle": "2021-12-24T06:46:21.379143Z",
     "shell.execute_reply": "2021-12-24T06:46:21.378278Z",
     "shell.execute_reply.started": "2021-12-24T06:46:21.370539Z"
    }
   },
   "outputs": [],
   "source": [
    "# Log Normal Transformnation of numerical features\n",
    "\n",
    "def log_normal(dataframe,log_transform):\n",
    "    for i in log_transform:\n",
    "        if(0 in dataframe[i].unique()):\n",
    "            pass\n",
    "        else:\n",
    "            dataframe[i] = np.log(dataframe[i])\n",
    "    return dataframe\n",
    "    "
   ]
  },
  {
   "cell_type": "code",
   "execution_count": null,
   "metadata": {
    "execution": {
     "iopub.execute_input": "2021-12-24T06:46:21.380786Z",
     "iopub.status.busy": "2021-12-24T06:46:21.380496Z",
     "iopub.status.idle": "2021-12-24T06:46:21.400247Z",
     "shell.execute_reply": "2021-12-24T06:46:21.399278Z",
     "shell.execute_reply.started": "2021-12-24T06:46:21.380754Z"
    }
   },
   "outputs": [],
   "source": [
    "df = log_normal(df,log_transform)"
   ]
  },
  {
   "cell_type": "code",
   "execution_count": null,
   "metadata": {
    "execution": {
     "iopub.execute_input": "2021-12-24T06:46:21.401724Z",
     "iopub.status.busy": "2021-12-24T06:46:21.401438Z",
     "iopub.status.idle": "2021-12-24T06:46:21.407132Z",
     "shell.execute_reply": "2021-12-24T06:46:21.405963Z",
     "shell.execute_reply.started": "2021-12-24T06:46:21.401667Z"
    }
   },
   "outputs": [],
   "source": [
    "log_transform_temp = [features for features in numerical_features if features not in year_feature and features!= 'SalePrice']"
   ]
  },
  {
   "cell_type": "code",
   "execution_count": null,
   "metadata": {
    "execution": {
     "iopub.execute_input": "2021-12-24T06:46:21.408778Z",
     "iopub.status.busy": "2021-12-24T06:46:21.408501Z",
     "iopub.status.idle": "2021-12-24T06:46:21.419691Z",
     "shell.execute_reply": "2021-12-24T06:46:21.418965Z",
     "shell.execute_reply.started": "2021-12-24T06:46:21.408747Z"
    }
   },
   "outputs": [],
   "source": [
    "log_transform_temp"
   ]
  },
  {
   "cell_type": "code",
   "execution_count": null,
   "metadata": {
    "execution": {
     "iopub.execute_input": "2021-12-24T06:46:21.421617Z",
     "iopub.status.busy": "2021-12-24T06:46:21.420938Z",
     "iopub.status.idle": "2021-12-24T06:46:21.42897Z",
     "shell.execute_reply": "2021-12-24T06:46:21.428055Z",
     "shell.execute_reply.started": "2021-12-24T06:46:21.421572Z"
    }
   },
   "outputs": [],
   "source": [
    "# Function to do log normal transformation\n",
    "\n",
    "def log_normal_temp(dataframe,log_transform_temp):\n",
    "    for i in log_transform_temp:\n",
    "        if(0 in dataframe[i].unique()):\n",
    "            pass\n",
    "        else:\n",
    "            dataframe[i] = np.log(dataframe[i])\n",
    "    return dataframe"
   ]
  },
  {
   "cell_type": "code",
   "execution_count": null,
   "metadata": {
    "execution": {
     "iopub.execute_input": "2021-12-24T06:46:21.432998Z",
     "iopub.status.busy": "2021-12-24T06:46:21.431999Z",
     "iopub.status.idle": "2021-12-24T06:46:21.449197Z",
     "shell.execute_reply": "2021-12-24T06:46:21.448529Z",
     "shell.execute_reply.started": "2021-12-24T06:46:21.432953Z"
    }
   },
   "outputs": [],
   "source": [
    "temp = log_normal_temp(temp,log_transform_temp)"
   ]
  },
  {
   "cell_type": "code",
   "execution_count": null,
   "metadata": {
    "execution": {
     "iopub.execute_input": "2021-12-24T06:46:21.450954Z",
     "iopub.status.busy": "2021-12-24T06:46:21.450598Z",
     "iopub.status.idle": "2021-12-24T06:46:21.509476Z",
     "shell.execute_reply": "2021-12-24T06:46:21.508846Z",
     "shell.execute_reply.started": "2021-12-24T06:46:21.450924Z"
    }
   },
   "outputs": [],
   "source": [
    "df.head()"
   ]
  },
  {
   "cell_type": "code",
   "execution_count": null,
   "metadata": {
    "execution": {
     "iopub.execute_input": "2021-12-24T06:46:21.511379Z",
     "iopub.status.busy": "2021-12-24T06:46:21.510442Z",
     "iopub.status.idle": "2021-12-24T06:46:21.577779Z",
     "shell.execute_reply": "2021-12-24T06:46:21.57691Z",
     "shell.execute_reply.started": "2021-12-24T06:46:21.511343Z"
    }
   },
   "outputs": [],
   "source": [
    "temp.head()"
   ]
  },
  {
   "cell_type": "markdown",
   "metadata": {},
   "source": [
    "# Handling Rare Categorical Features"
   ]
  },
  {
   "cell_type": "code",
   "execution_count": null,
   "metadata": {
    "execution": {
     "iopub.execute_input": "2021-12-24T06:46:21.579721Z",
     "iopub.status.busy": "2021-12-24T06:46:21.579309Z",
     "iopub.status.idle": "2021-12-24T06:46:21.64573Z",
     "shell.execute_reply": "2021-12-24T06:46:21.644927Z",
     "shell.execute_reply.started": "2021-12-24T06:46:21.579659Z"
    }
   },
   "outputs": [],
   "source": [
    "# Making a copy of the dataset\n",
    "\n",
    "data = df.copy()\n",
    "data.head()"
   ]
  },
  {
   "cell_type": "code",
   "execution_count": null,
   "metadata": {
    "execution": {
     "iopub.execute_input": "2021-12-24T06:46:21.64737Z",
     "iopub.status.busy": "2021-12-24T06:46:21.647136Z",
     "iopub.status.idle": "2021-12-24T06:46:22.029092Z",
     "shell.execute_reply": "2021-12-24T06:46:22.02802Z",
     "shell.execute_reply.started": "2021-12-24T06:46:21.647341Z"
    }
   },
   "outputs": [],
   "source": [
    "from feature_engine.encoding import RareLabelEncoder\n",
    "encoder = RareLabelEncoder(tol = 0.01,n_categories=9,replace_with='Rare')"
   ]
  },
  {
   "cell_type": "code",
   "execution_count": null,
   "metadata": {
    "execution": {
     "iopub.execute_input": "2021-12-24T06:46:22.031101Z",
     "iopub.status.busy": "2021-12-24T06:46:22.030786Z",
     "iopub.status.idle": "2021-12-24T06:46:22.098857Z",
     "shell.execute_reply": "2021-12-24T06:46:22.0979Z",
     "shell.execute_reply.started": "2021-12-24T06:46:22.03106Z"
    }
   },
   "outputs": [],
   "source": [
    "# We will find the features that have rare categorical features or features who has sub categories less than 1% frequency.\n",
    "\n",
    "data = encoder.fit_transform(data)\n",
    "for features in ['Neighborhood', 'Condition1', 'Exterior1st', 'Exterior2nd' ,'SaleType']:\n",
    "    data[features + \"_rare\"] = np.where(data[features]==\"Rare\",1,0) \n",
    "    "
   ]
  },
  {
   "cell_type": "code",
   "execution_count": null,
   "metadata": {
    "execution": {
     "iopub.execute_input": "2021-12-24T06:46:22.100627Z",
     "iopub.status.busy": "2021-12-24T06:46:22.100301Z",
     "iopub.status.idle": "2021-12-24T06:46:22.170074Z",
     "shell.execute_reply": "2021-12-24T06:46:22.169407Z",
     "shell.execute_reply.started": "2021-12-24T06:46:22.100584Z"
    }
   },
   "outputs": [],
   "source": [
    "# We will find the features that have rare categorical features or features who has sub categories less than 1% frequency.\n",
    "\n",
    "temp = encoder.fit_transform(temp)\n",
    "for features in ['Neighborhood', 'Condition1', 'Exterior1st', 'Exterior2nd' ,'SaleType']:\n",
    "    temp[features + \"_rare\"] = np.where(temp[features]==\"Rare\",1,0) \n",
    "    "
   ]
  },
  {
   "cell_type": "code",
   "execution_count": null,
   "metadata": {
    "execution": {
     "iopub.execute_input": "2021-12-24T06:46:22.172237Z",
     "iopub.status.busy": "2021-12-24T06:46:22.171082Z",
     "iopub.status.idle": "2021-12-24T06:46:22.23799Z",
     "shell.execute_reply": "2021-12-24T06:46:22.236782Z",
     "shell.execute_reply.started": "2021-12-24T06:46:22.172166Z"
    }
   },
   "outputs": [],
   "source": [
    "data.head()"
   ]
  },
  {
   "cell_type": "code",
   "execution_count": null,
   "metadata": {
    "execution": {
     "iopub.execute_input": "2021-12-24T06:46:22.240461Z",
     "iopub.status.busy": "2021-12-24T06:46:22.239576Z",
     "iopub.status.idle": "2021-12-24T06:46:22.244149Z",
     "shell.execute_reply": "2021-12-24T06:46:22.243501Z",
     "shell.execute_reply.started": "2021-12-24T06:46:22.240423Z"
    }
   },
   "outputs": [],
   "source": [
    "df = data"
   ]
  },
  {
   "cell_type": "code",
   "execution_count": null,
   "metadata": {
    "execution": {
     "iopub.execute_input": "2021-12-24T06:46:22.245995Z",
     "iopub.status.busy": "2021-12-24T06:46:22.245755Z",
     "iopub.status.idle": "2021-12-24T06:46:22.321029Z",
     "shell.execute_reply": "2021-12-24T06:46:22.320058Z",
     "shell.execute_reply.started": "2021-12-24T06:46:22.245966Z"
    }
   },
   "outputs": [],
   "source": [
    "temp.head()"
   ]
  },
  {
   "cell_type": "markdown",
   "metadata": {},
   "source": [
    "# Temporal Variables"
   ]
  },
  {
   "cell_type": "code",
   "execution_count": null,
   "metadata": {
    "execution": {
     "iopub.execute_input": "2021-12-24T06:46:22.323151Z",
     "iopub.status.busy": "2021-12-24T06:46:22.322729Z",
     "iopub.status.idle": "2021-12-24T06:46:22.333941Z",
     "shell.execute_reply": "2021-12-24T06:46:22.332975Z",
     "shell.execute_reply.started": "2021-12-24T06:46:22.323114Z"
    }
   },
   "outputs": [],
   "source": [
    "# As seen in earlier EDA prices of the house directly depends on age of the house\n",
    "year = [features for features in year_feature if features != 'YrSold']\n",
    "year"
   ]
  },
  {
   "cell_type": "code",
   "execution_count": null,
   "metadata": {
    "execution": {
     "iopub.execute_input": "2021-12-24T06:46:22.335431Z",
     "iopub.status.busy": "2021-12-24T06:46:22.335187Z",
     "iopub.status.idle": "2021-12-24T06:46:22.345289Z",
     "shell.execute_reply": "2021-12-24T06:46:22.344635Z",
     "shell.execute_reply.started": "2021-12-24T06:46:22.335404Z"
    }
   },
   "outputs": [],
   "source": [
    "for features in year:\n",
    "    df[features] = df['YrSold'] - df[features]"
   ]
  },
  {
   "cell_type": "code",
   "execution_count": null,
   "metadata": {
    "execution": {
     "iopub.execute_input": "2021-12-24T06:46:22.347156Z",
     "iopub.status.busy": "2021-12-24T06:46:22.34633Z",
     "iopub.status.idle": "2021-12-24T06:46:22.358686Z",
     "shell.execute_reply": "2021-12-24T06:46:22.357985Z",
     "shell.execute_reply.started": "2021-12-24T06:46:22.347124Z"
    }
   },
   "outputs": [],
   "source": [
    "for features in year:\n",
    "    temp[features] = temp['YrSold'] - temp[features]"
   ]
  },
  {
   "cell_type": "code",
   "execution_count": null,
   "metadata": {
    "execution": {
     "iopub.execute_input": "2021-12-24T06:46:22.360449Z",
     "iopub.status.busy": "2021-12-24T06:46:22.359823Z",
     "iopub.status.idle": "2021-12-24T06:46:22.377613Z",
     "shell.execute_reply": "2021-12-24T06:46:22.376989Z",
     "shell.execute_reply.started": "2021-12-24T06:46:22.360406Z"
    }
   },
   "outputs": [],
   "source": [
    "df[year].head()"
   ]
  },
  {
   "cell_type": "code",
   "execution_count": null,
   "metadata": {
    "execution": {
     "iopub.execute_input": "2021-12-24T06:46:22.380079Z",
     "iopub.status.busy": "2021-12-24T06:46:22.379043Z",
     "iopub.status.idle": "2021-12-24T06:46:22.39345Z",
     "shell.execute_reply": "2021-12-24T06:46:22.392768Z",
     "shell.execute_reply.started": "2021-12-24T06:46:22.380027Z"
    }
   },
   "outputs": [],
   "source": [
    "temp[year].head()"
   ]
  },
  {
   "cell_type": "markdown",
   "metadata": {},
   "source": [
    "# One Hot Encoding & Label Encoding"
   ]
  },
  {
   "cell_type": "code",
   "execution_count": null,
   "metadata": {
    "execution": {
     "iopub.execute_input": "2021-12-24T06:46:22.395077Z",
     "iopub.status.busy": "2021-12-24T06:46:22.394545Z",
     "iopub.status.idle": "2021-12-24T06:46:22.404643Z",
     "shell.execute_reply": "2021-12-24T06:46:22.403994Z",
     "shell.execute_reply.started": "2021-12-24T06:46:22.395044Z"
    }
   },
   "outputs": [],
   "source": [
    "# So during EDA we found that there were many features which has an exponential relationship with dependent variable Sale Price, \n",
    "# So we will label Encode those features and rest would be done using One Hot Encoder. With this strategy we can give our model a clear relationship between the features.\n",
    "\n",
    "from sklearn.preprocessing import OneHotEncoder\n",
    "from sklearn.preprocessing import LabelEncoder\n",
    "\n",
    "lebel_encoder = LabelEncoder()\n",
    "One_encoder = OneHotEncoder(drop='first')"
   ]
  },
  {
   "cell_type": "code",
   "execution_count": null,
   "metadata": {
    "execution": {
     "iopub.execute_input": "2021-12-24T06:46:22.40612Z",
     "iopub.status.busy": "2021-12-24T06:46:22.405686Z",
     "iopub.status.idle": "2021-12-24T06:46:22.475964Z",
     "shell.execute_reply": "2021-12-24T06:46:22.475324Z",
     "shell.execute_reply.started": "2021-12-24T06:46:22.406075Z"
    }
   },
   "outputs": [],
   "source": [
    "df.head()"
   ]
  },
  {
   "cell_type": "code",
   "execution_count": null,
   "metadata": {
    "execution": {
     "iopub.execute_input": "2021-12-24T06:46:22.477344Z",
     "iopub.status.busy": "2021-12-24T06:46:22.477001Z",
     "iopub.status.idle": "2021-12-24T06:46:22.501747Z",
     "shell.execute_reply": "2021-12-24T06:46:22.501119Z",
     "shell.execute_reply.started": "2021-12-24T06:46:22.477317Z"
    }
   },
   "outputs": [],
   "source": [
    "# categorical features which only have Two sub categories\n",
    "two_subcat = [features for features in categorical_features if len(df[features].unique())==2]\n",
    "df[two_subcat]"
   ]
  },
  {
   "cell_type": "code",
   "execution_count": null,
   "metadata": {
    "execution": {
     "iopub.execute_input": "2021-12-24T06:46:22.503098Z",
     "iopub.status.busy": "2021-12-24T06:46:22.502782Z",
     "iopub.status.idle": "2021-12-24T06:46:22.526547Z",
     "shell.execute_reply": "2021-12-24T06:46:22.525951Z",
     "shell.execute_reply.started": "2021-12-24T06:46:22.503071Z"
    }
   },
   "outputs": [],
   "source": [
    "# Getting all the elements which has only two unique categories inside them\n",
    "two_subcat_temp = [features for features in categorical_features if len(temp[features].unique())==2]\n",
    "temp[two_subcat_temp]"
   ]
  },
  {
   "cell_type": "code",
   "execution_count": null,
   "metadata": {
    "execution": {
     "iopub.execute_input": "2021-12-24T06:46:22.527906Z",
     "iopub.status.busy": "2021-12-24T06:46:22.527581Z",
     "iopub.status.idle": "2021-12-24T06:46:22.536711Z",
     "shell.execute_reply": "2021-12-24T06:46:22.536078Z",
     "shell.execute_reply.started": "2021-12-24T06:46:22.52788Z"
    }
   },
   "outputs": [],
   "source": [
    "# Categorical features which have two sub categories are convetred into numerical counter-part.\n",
    "data = df.copy()\n",
    "\n",
    "for features in two_subcat:\n",
    "    lis = data[features].unique()\n",
    "    data[features] = np.where(data[features]==lis[0],1,0)"
   ]
  },
  {
   "cell_type": "code",
   "execution_count": null,
   "metadata": {
    "execution": {
     "iopub.execute_input": "2021-12-24T06:46:22.538723Z",
     "iopub.status.busy": "2021-12-24T06:46:22.538223Z",
     "iopub.status.idle": "2021-12-24T06:46:22.549363Z",
     "shell.execute_reply": "2021-12-24T06:46:22.548345Z",
     "shell.execute_reply.started": "2021-12-24T06:46:22.538656Z"
    }
   },
   "outputs": [],
   "source": [
    "# Doing the same for the test data\n",
    "for features in two_subcat_temp:\n",
    "    lis_temp = temp[features].unique()\n",
    "    temp[features] = np.where(temp[features]==lis_temp[0],1,0)"
   ]
  },
  {
   "cell_type": "code",
   "execution_count": null,
   "metadata": {
    "execution": {
     "iopub.execute_input": "2021-12-24T06:46:22.551379Z",
     "iopub.status.busy": "2021-12-24T06:46:22.551087Z",
     "iopub.status.idle": "2021-12-24T06:46:22.631205Z",
     "shell.execute_reply": "2021-12-24T06:46:22.630271Z",
     "shell.execute_reply.started": "2021-12-24T06:46:22.551349Z"
    }
   },
   "outputs": [],
   "source": [
    "# Label Encoding rest of the categorical features\n",
    "for c in categorical_features:\n",
    "    label_encoder = LabelEncoder() \n",
    "    label_encoder.fit(list(data[c].values)) \n",
    "    data[c] = label_encoder.transform(list(data[c].values))"
   ]
  },
  {
   "cell_type": "code",
   "execution_count": null,
   "metadata": {
    "execution": {
     "iopub.execute_input": "2021-12-24T06:46:22.635358Z",
     "iopub.status.busy": "2021-12-24T06:46:22.635091Z",
     "iopub.status.idle": "2021-12-24T06:46:22.711527Z",
     "shell.execute_reply": "2021-12-24T06:46:22.710826Z",
     "shell.execute_reply.started": "2021-12-24T06:46:22.635327Z"
    }
   },
   "outputs": [],
   "source": [
    "# Doing the same for test data\n",
    "for c in categorical_features:\n",
    "    label_encoder = LabelEncoder() \n",
    "    label_encoder.fit(list(temp[c].values)) \n",
    "    temp[c] = label_encoder.transform(list(temp[c].values))"
   ]
  },
  {
   "cell_type": "code",
   "execution_count": null,
   "metadata": {
    "execution": {
     "iopub.execute_input": "2021-12-24T06:46:22.713207Z",
     "iopub.status.busy": "2021-12-24T06:46:22.712957Z",
     "iopub.status.idle": "2021-12-24T06:46:22.717433Z",
     "shell.execute_reply": "2021-12-24T06:46:22.716544Z",
     "shell.execute_reply.started": "2021-12-24T06:46:22.713177Z"
    }
   },
   "outputs": [],
   "source": [
    "# Giving back the dataset after manupulation\n",
    "df = data"
   ]
  },
  {
   "cell_type": "code",
   "execution_count": null,
   "metadata": {
    "execution": {
     "iopub.execute_input": "2021-12-24T06:46:22.719107Z",
     "iopub.status.busy": "2021-12-24T06:46:22.718877Z",
     "iopub.status.idle": "2021-12-24T06:46:22.754268Z",
     "shell.execute_reply": "2021-12-24T06:46:22.753393Z",
     "shell.execute_reply.started": "2021-12-24T06:46:22.719074Z"
    }
   },
   "outputs": [],
   "source": [
    "df[categorical_features].head()"
   ]
  },
  {
   "cell_type": "code",
   "execution_count": null,
   "metadata": {
    "execution": {
     "iopub.execute_input": "2021-12-24T06:46:22.756716Z",
     "iopub.status.busy": "2021-12-24T06:46:22.755915Z",
     "iopub.status.idle": "2021-12-24T06:46:22.817861Z",
     "shell.execute_reply": "2021-12-24T06:46:22.817108Z",
     "shell.execute_reply.started": "2021-12-24T06:46:22.756648Z"
    }
   },
   "outputs": [],
   "source": [
    "df.sample(10)"
   ]
  },
  {
   "cell_type": "code",
   "execution_count": null,
   "metadata": {
    "execution": {
     "iopub.execute_input": "2021-12-24T06:46:22.820113Z",
     "iopub.status.busy": "2021-12-24T06:46:22.819397Z",
     "iopub.status.idle": "2021-12-24T06:46:22.826379Z",
     "shell.execute_reply": "2021-12-24T06:46:22.825273Z",
     "shell.execute_reply.started": "2021-12-24T06:46:22.820079Z"
    }
   },
   "outputs": [],
   "source": [
    "# Dropping Sale Price from X_train\n",
    "X_train = df.drop('SalePrice',axis=1)"
   ]
  },
  {
   "cell_type": "code",
   "execution_count": null,
   "metadata": {
    "execution": {
     "iopub.execute_input": "2021-12-24T06:46:22.82806Z",
     "iopub.status.busy": "2021-12-24T06:46:22.827727Z",
     "iopub.status.idle": "2021-12-24T06:46:22.839599Z",
     "shell.execute_reply": "2021-12-24T06:46:22.838537Z",
     "shell.execute_reply.started": "2021-12-24T06:46:22.828027Z"
    }
   },
   "outputs": [],
   "source": [
    "# Getting all the features except ID and SALE PRICE because we need them as column names after feature scaling\n",
    "features = [features for features in df.columns if features not in ['SalePrice','Id']]"
   ]
  },
  {
   "cell_type": "code",
   "execution_count": null,
   "metadata": {
    "execution": {
     "iopub.execute_input": "2021-12-24T06:46:22.842081Z",
     "iopub.status.busy": "2021-12-24T06:46:22.841349Z",
     "iopub.status.idle": "2021-12-24T06:46:22.852947Z",
     "shell.execute_reply": "2021-12-24T06:46:22.852217Z",
     "shell.execute_reply.started": "2021-12-24T06:46:22.842031Z"
    }
   },
   "outputs": [],
   "source": [
    "X_train.shape"
   ]
  },
  {
   "cell_type": "code",
   "execution_count": null,
   "metadata": {
    "execution": {
     "iopub.execute_input": "2021-12-24T06:46:22.85518Z",
     "iopub.status.busy": "2021-12-24T06:46:22.854203Z",
     "iopub.status.idle": "2021-12-24T06:46:22.866823Z",
     "shell.execute_reply": "2021-12-24T06:46:22.865779Z",
     "shell.execute_reply.started": "2021-12-24T06:46:22.855123Z"
    }
   },
   "outputs": [],
   "source": [
    "temp.shape"
   ]
  },
  {
   "cell_type": "code",
   "execution_count": null,
   "metadata": {
    "execution": {
     "iopub.execute_input": "2021-12-24T06:46:22.869537Z",
     "iopub.status.busy": "2021-12-24T06:46:22.868562Z",
     "iopub.status.idle": "2021-12-24T06:46:22.887043Z",
     "shell.execute_reply": "2021-12-24T06:46:22.885958Z",
     "shell.execute_reply.started": "2021-12-24T06:46:22.869487Z"
    }
   },
   "outputs": [],
   "source": [
    "# Using MinMaxScaler for scaling the features\n",
    "from sklearn.preprocessing import StandardScaler\n",
    "scaler=StandardScaler()\n",
    "scaler.fit(X_train)\n",
    "temp = scaler.transform(temp)"
   ]
  },
  {
   "cell_type": "code",
   "execution_count": null,
   "metadata": {
    "execution": {
     "iopub.execute_input": "2021-12-24T06:46:22.88879Z",
     "iopub.status.busy": "2021-12-24T06:46:22.888486Z",
     "iopub.status.idle": "2021-12-24T06:46:22.89517Z",
     "shell.execute_reply": "2021-12-24T06:46:22.894067Z",
     "shell.execute_reply.started": "2021-12-24T06:46:22.888756Z"
    }
   },
   "outputs": [],
   "source": [
    "# Converting the array returned by sclaer to dataframe\n",
    "temp = pd.DataFrame(scaler.transform(temp),columns=features)"
   ]
  },
  {
   "cell_type": "code",
   "execution_count": null,
   "metadata": {
    "execution": {
     "iopub.execute_input": "2021-12-24T06:46:22.897075Z",
     "iopub.status.busy": "2021-12-24T06:46:22.896522Z",
     "iopub.status.idle": "2021-12-24T06:46:22.911793Z",
     "shell.execute_reply": "2021-12-24T06:46:22.910776Z",
     "shell.execute_reply.started": "2021-12-24T06:46:22.897038Z"
    }
   },
   "outputs": [],
   "source": [
    "# Converting the array returned by sclaer to dataframe for X_train\n",
    "X_train = pd.concat([df['SalePrice'].reset_index(drop=True),pd.DataFrame(scaler.transform(X_train),columns=features)],axis=1)"
   ]
  },
  {
   "cell_type": "code",
   "execution_count": null,
   "metadata": {
    "execution": {
     "iopub.execute_input": "2021-12-24T06:46:22.914234Z",
     "iopub.status.busy": "2021-12-24T06:46:22.913672Z",
     "iopub.status.idle": "2021-12-24T06:46:22.990163Z",
     "shell.execute_reply": "2021-12-24T06:46:22.98924Z",
     "shell.execute_reply.started": "2021-12-24T06:46:22.914175Z"
    }
   },
   "outputs": [],
   "source": [
    "X_train.head()"
   ]
  },
  {
   "cell_type": "code",
   "execution_count": null,
   "metadata": {
    "execution": {
     "iopub.execute_input": "2021-12-24T06:46:22.991722Z",
     "iopub.status.busy": "2021-12-24T06:46:22.991453Z",
     "iopub.status.idle": "2021-12-24T06:46:22.996748Z",
     "shell.execute_reply": "2021-12-24T06:46:22.996115Z",
     "shell.execute_reply.started": "2021-12-24T06:46:22.99167Z"
    }
   },
   "outputs": [],
   "source": [
    "# Getting all the dependent feture values\n",
    "y_train = X_train['SalePrice'].values"
   ]
  },
  {
   "cell_type": "code",
   "execution_count": null,
   "metadata": {
    "execution": {
     "iopub.execute_input": "2021-12-24T06:46:22.998239Z",
     "iopub.status.busy": "2021-12-24T06:46:22.99791Z",
     "iopub.status.idle": "2021-12-24T06:46:23.01475Z",
     "shell.execute_reply": "2021-12-24T06:46:23.013888Z",
     "shell.execute_reply.started": "2021-12-24T06:46:22.99821Z"
    }
   },
   "outputs": [],
   "source": [
    "# Dropping Sale Price from tain data\n",
    "X_train = X_train.drop('SalePrice',axis=1)"
   ]
  },
  {
   "cell_type": "markdown",
   "metadata": {},
   "source": [
    "# Feature Selection"
   ]
  },
  {
   "cell_type": "code",
   "execution_count": null,
   "metadata": {
    "execution": {
     "iopub.execute_input": "2021-12-24T06:46:23.025474Z",
     "iopub.status.busy": "2021-12-24T06:46:23.025148Z",
     "iopub.status.idle": "2021-12-24T06:46:23.041976Z",
     "shell.execute_reply": "2021-12-24T06:46:23.041309Z",
     "shell.execute_reply.started": "2021-12-24T06:46:23.02544Z"
    }
   },
   "outputs": [],
   "source": [
    "# Using Lasso for feature selection\n",
    "from sklearn.linear_model import Lasso\n",
    "from sklearn.feature_selection import SelectFromModel"
   ]
  },
  {
   "cell_type": "code",
   "execution_count": null,
   "metadata": {
    "execution": {
     "iopub.execute_input": "2021-12-24T06:46:23.043552Z",
     "iopub.status.busy": "2021-12-24T06:46:23.043196Z",
     "iopub.status.idle": "2021-12-24T06:46:23.075777Z",
     "shell.execute_reply": "2021-12-24T06:46:23.074847Z",
     "shell.execute_reply.started": "2021-12-24T06:46:23.043522Z"
    }
   },
   "outputs": [],
   "source": [
    "feature_sel_model = SelectFromModel(Lasso(alpha=0.005,random_state=0))\n",
    "feature_sel_model.fit(X_train,y_train)"
   ]
  },
  {
   "cell_type": "code",
   "execution_count": null,
   "metadata": {
    "execution": {
     "iopub.execute_input": "2021-12-24T06:46:23.078301Z",
     "iopub.status.busy": "2021-12-24T06:46:23.077722Z",
     "iopub.status.idle": "2021-12-24T06:46:23.091086Z",
     "shell.execute_reply": "2021-12-24T06:46:23.089818Z",
     "shell.execute_reply.started": "2021-12-24T06:46:23.078241Z"
    }
   },
   "outputs": [],
   "source": [
    "# Getting all the important features\n",
    "feature_sel_model.get_support()"
   ]
  },
  {
   "cell_type": "code",
   "execution_count": null,
   "metadata": {
    "execution": {
     "iopub.execute_input": "2021-12-24T06:46:23.098457Z",
     "iopub.status.busy": "2021-12-24T06:46:23.097336Z",
     "iopub.status.idle": "2021-12-24T06:46:23.116051Z",
     "shell.execute_reply": "2021-12-24T06:46:23.114788Z",
     "shell.execute_reply.started": "2021-12-24T06:46:23.098387Z"
    }
   },
   "outputs": [],
   "source": [
    "# A total of 23 features are selected\n",
    "selected = X_train.columns[(feature_sel_model.get_support())]\n",
    "len(selected)"
   ]
  },
  {
   "cell_type": "code",
   "execution_count": null,
   "metadata": {
    "execution": {
     "iopub.execute_input": "2021-12-24T06:46:23.122489Z",
     "iopub.status.busy": "2021-12-24T06:46:23.12158Z",
     "iopub.status.idle": "2021-12-24T06:46:23.139091Z",
     "shell.execute_reply": "2021-12-24T06:46:23.137641Z",
     "shell.execute_reply.started": "2021-12-24T06:46:23.122435Z"
    }
   },
   "outputs": [],
   "source": [
    "# All the important features\n",
    "selected"
   ]
  },
  {
   "cell_type": "code",
   "execution_count": null,
   "metadata": {
    "execution": {
     "iopub.execute_input": "2021-12-24T06:46:23.145866Z",
     "iopub.status.busy": "2021-12-24T06:46:23.145101Z",
     "iopub.status.idle": "2021-12-24T06:46:23.158982Z",
     "shell.execute_reply": "2021-12-24T06:46:23.157935Z",
     "shell.execute_reply.started": "2021-12-24T06:46:23.145811Z"
    }
   },
   "outputs": [],
   "source": [
    "# Getting all the selected features in X_train\n",
    "X_train = X_train[selected]"
   ]
  },
  {
   "cell_type": "code",
   "execution_count": null,
   "metadata": {
    "execution": {
     "iopub.execute_input": "2021-12-24T06:46:23.166306Z",
     "iopub.status.busy": "2021-12-24T06:46:23.164929Z",
     "iopub.status.idle": "2021-12-24T06:46:23.180554Z",
     "shell.execute_reply": "2021-12-24T06:46:23.178385Z",
     "shell.execute_reply.started": "2021-12-24T06:46:23.166252Z"
    }
   },
   "outputs": [],
   "source": [
    "X_train.shape"
   ]
  },
  {
   "cell_type": "code",
   "execution_count": null,
   "metadata": {
    "execution": {
     "iopub.execute_input": "2021-12-24T06:46:23.184513Z",
     "iopub.status.busy": "2021-12-24T06:46:23.183281Z",
     "iopub.status.idle": "2021-12-24T06:46:23.228947Z",
     "shell.execute_reply": "2021-12-24T06:46:23.227782Z",
     "shell.execute_reply.started": "2021-12-24T06:46:23.184439Z"
    }
   },
   "outputs": [],
   "source": [
    "X_train.head()"
   ]
  },
  {
   "cell_type": "code",
   "execution_count": null,
   "metadata": {
    "execution": {
     "iopub.execute_input": "2021-12-24T06:46:23.231058Z",
     "iopub.status.busy": "2021-12-24T06:46:23.230745Z",
     "iopub.status.idle": "2021-12-24T06:46:23.236675Z",
     "shell.execute_reply": "2021-12-24T06:46:23.23578Z",
     "shell.execute_reply.started": "2021-12-24T06:46:23.231016Z"
    }
   },
   "outputs": [],
   "source": [
    "# Getting all the selected features in X_test variables\n",
    "X_test = temp[selected]"
   ]
  },
  {
   "cell_type": "code",
   "execution_count": null,
   "metadata": {
    "execution": {
     "iopub.execute_input": "2021-12-24T06:46:23.238763Z",
     "iopub.status.busy": "2021-12-24T06:46:23.238262Z",
     "iopub.status.idle": "2021-12-24T06:46:23.25025Z",
     "shell.execute_reply": "2021-12-24T06:46:23.249354Z",
     "shell.execute_reply.started": "2021-12-24T06:46:23.238717Z"
    }
   },
   "outputs": [],
   "source": [
    "X_test.shape"
   ]
  },
  {
   "cell_type": "code",
   "execution_count": null,
   "metadata": {
    "execution": {
     "iopub.execute_input": "2021-12-24T06:46:23.252411Z",
     "iopub.status.busy": "2021-12-24T06:46:23.251597Z",
     "iopub.status.idle": "2021-12-24T06:46:23.299356Z",
     "shell.execute_reply": "2021-12-24T06:46:23.298721Z",
     "shell.execute_reply.started": "2021-12-24T06:46:23.252366Z"
    }
   },
   "outputs": [],
   "source": [
    "X_test.head()"
   ]
  },
  {
   "cell_type": "code",
   "execution_count": null,
   "metadata": {
    "execution": {
     "iopub.execute_input": "2021-12-24T06:46:23.30098Z",
     "iopub.status.busy": "2021-12-24T06:46:23.30043Z",
     "iopub.status.idle": "2021-12-24T06:46:23.307427Z",
     "shell.execute_reply": "2021-12-24T06:46:23.306285Z",
     "shell.execute_reply.started": "2021-12-24T06:46:23.300935Z"
    }
   },
   "outputs": [],
   "source": [
    "# We will use cross validation for testing models\n",
    "from sklearn.model_selection import KFold,cross_val_score\n",
    "from sklearn.metrics import make_scorer,r2_score\n",
    "\n",
    "def test_model(model, X_train=X_train, y_train=y_train):\n",
    "    cv = KFold(n_splits=10,shuffle=True,random_state=45)\n",
    "    r2 = make_scorer(r2_score)\n",
    "    r2_val_score = cross_val_score(model,X_train,y_train,cv=cv,scoring=r2)\n",
    "    score = [r2_val_score.mean()]\n",
    "    return score"
   ]
  },
  {
   "cell_type": "markdown",
   "metadata": {},
   "source": [
    "# Linear Regression"
   ]
  },
  {
   "cell_type": "code",
   "execution_count": null,
   "metadata": {
    "execution": {
     "iopub.execute_input": "2021-12-24T06:46:23.308866Z",
     "iopub.status.busy": "2021-12-24T06:46:23.308575Z",
     "iopub.status.idle": "2021-12-24T06:46:23.319887Z",
     "shell.execute_reply": "2021-12-24T06:46:23.319118Z",
     "shell.execute_reply.started": "2021-12-24T06:46:23.308833Z"
    }
   },
   "outputs": [],
   "source": [
    "from sklearn.linear_model import LinearRegression,Ridge,Lasso\n",
    "Lr = LinearRegression(normalize=True, n_jobs=-1)"
   ]
  },
  {
   "cell_type": "code",
   "execution_count": null,
   "metadata": {
    "execution": {
     "iopub.execute_input": "2021-12-24T06:46:23.322078Z",
     "iopub.status.busy": "2021-12-24T06:46:23.321748Z",
     "iopub.status.idle": "2021-12-24T06:46:23.466332Z",
     "shell.execute_reply": "2021-12-24T06:46:23.465468Z",
     "shell.execute_reply.started": "2021-12-24T06:46:23.322029Z"
    }
   },
   "outputs": [],
   "source": [
    "test_model(Lr)"
   ]
  },
  {
   "cell_type": "markdown",
   "metadata": {},
   "source": [
    "# Ridge Regression"
   ]
  },
  {
   "cell_type": "code",
   "execution_count": null,
   "metadata": {
    "execution": {
     "iopub.execute_input": "2021-12-24T06:46:23.468766Z",
     "iopub.status.busy": "2021-12-24T06:46:23.468163Z",
     "iopub.status.idle": "2021-12-24T06:46:23.586385Z",
     "shell.execute_reply": "2021-12-24T06:46:23.585527Z",
     "shell.execute_reply.started": "2021-12-24T06:46:23.468718Z"
    }
   },
   "outputs": [],
   "source": [
    "Rdg = Ridge(alpha = 1e-4, normalize=True)\n",
    "test_model(Rdg)"
   ]
  },
  {
   "cell_type": "markdown",
   "metadata": {},
   "source": [
    "# Lasso Regression"
   ]
  },
  {
   "cell_type": "code",
   "execution_count": null,
   "metadata": {
    "execution": {
     "iopub.execute_input": "2021-12-24T06:46:23.588807Z",
     "iopub.status.busy": "2021-12-24T06:46:23.588206Z",
     "iopub.status.idle": "2021-12-24T06:46:23.740353Z",
     "shell.execute_reply": "2021-12-24T06:46:23.739477Z",
     "shell.execute_reply.started": "2021-12-24T06:46:23.588761Z"
    }
   },
   "outputs": [],
   "source": [
    "Las = Lasso(alpha = 1e-4, normalize=True)\n",
    "test_model(Las)"
   ]
  },
  {
   "cell_type": "markdown",
   "metadata": {},
   "source": [
    "# Decision Tree Regression"
   ]
  },
  {
   "cell_type": "code",
   "execution_count": null,
   "metadata": {
    "execution": {
     "iopub.execute_input": "2021-12-24T06:46:23.742877Z",
     "iopub.status.busy": "2021-12-24T06:46:23.74226Z",
     "iopub.status.idle": "2021-12-24T06:46:23.748257Z",
     "shell.execute_reply": "2021-12-24T06:46:23.747155Z",
     "shell.execute_reply.started": "2021-12-24T06:46:23.742829Z"
    }
   },
   "outputs": [],
   "source": [
    "from sklearn.tree import DecisionTreeRegressor\n",
    "DCR = DecisionTreeRegressor(max_depth=5)"
   ]
  },
  {
   "cell_type": "code",
   "execution_count": null,
   "metadata": {
    "execution": {
     "iopub.execute_input": "2021-12-24T06:46:23.75092Z",
     "iopub.status.busy": "2021-12-24T06:46:23.750267Z",
     "iopub.status.idle": "2021-12-24T06:46:23.920471Z",
     "shell.execute_reply": "2021-12-24T06:46:23.919396Z",
     "shell.execute_reply.started": "2021-12-24T06:46:23.750872Z"
    }
   },
   "outputs": [],
   "source": [
    "test_model(DCR)"
   ]
  },
  {
   "cell_type": "markdown",
   "metadata": {},
   "source": [
    "# Simple Vector Machine"
   ]
  },
  {
   "cell_type": "code",
   "execution_count": null,
   "metadata": {
    "execution": {
     "iopub.execute_input": "2021-12-24T06:46:23.922143Z",
     "iopub.status.busy": "2021-12-24T06:46:23.921899Z",
     "iopub.status.idle": "2021-12-24T06:46:23.927339Z",
     "shell.execute_reply": "2021-12-24T06:46:23.926027Z",
     "shell.execute_reply.started": "2021-12-24T06:46:23.922116Z"
    }
   },
   "outputs": [],
   "source": [
    "from sklearn.svm import SVR\n",
    "Svm = SVR(kernel='rbf')"
   ]
  },
  {
   "cell_type": "code",
   "execution_count": null,
   "metadata": {
    "execution": {
     "iopub.execute_input": "2021-12-24T06:46:23.928967Z",
     "iopub.status.busy": "2021-12-24T06:46:23.928617Z",
     "iopub.status.idle": "2021-12-24T06:46:25.246182Z",
     "shell.execute_reply": "2021-12-24T06:46:25.245014Z",
     "shell.execute_reply.started": "2021-12-24T06:46:23.928938Z"
    }
   },
   "outputs": [],
   "source": [
    "test_model(Svm)"
   ]
  },
  {
   "cell_type": "markdown",
   "metadata": {},
   "source": [
    "# LightGradiantBoosting"
   ]
  },
  {
   "cell_type": "code",
   "execution_count": null,
   "metadata": {
    "execution": {
     "iopub.execute_input": "2021-12-24T06:46:25.248303Z",
     "iopub.status.busy": "2021-12-24T06:46:25.247621Z",
     "iopub.status.idle": "2021-12-24T06:46:28.497323Z",
     "shell.execute_reply": "2021-12-24T06:46:28.496659Z",
     "shell.execute_reply.started": "2021-12-24T06:46:25.248255Z"
    }
   },
   "outputs": [],
   "source": [
    "from lightgbm import LGBMRegressor\n",
    "lgbm = LGBMRegressor()\n",
    "test_model(lgbm)"
   ]
  },
  {
   "cell_type": "markdown",
   "metadata": {},
   "source": [
    "# XGBoost Regressor"
   ]
  },
  {
   "cell_type": "code",
   "execution_count": null,
   "metadata": {
    "execution": {
     "iopub.execute_input": "2021-12-24T06:46:28.501333Z",
     "iopub.status.busy": "2021-12-24T06:46:28.500604Z",
     "iopub.status.idle": "2021-12-24T06:46:28.58827Z",
     "shell.execute_reply": "2021-12-24T06:46:28.58726Z",
     "shell.execute_reply.started": "2021-12-24T06:46:28.50129Z"
    }
   },
   "outputs": [],
   "source": [
    "import xgboost\n",
    "xgb = xgboost.XGBRegressor(bbooster='gbtree',random_state=0)"
   ]
  },
  {
   "cell_type": "code",
   "execution_count": null,
   "metadata": {
    "execution": {
     "iopub.execute_input": "2021-12-24T06:46:28.589634Z",
     "iopub.status.busy": "2021-12-24T06:46:28.589307Z",
     "iopub.status.idle": "2021-12-24T06:46:34.156975Z",
     "shell.execute_reply": "2021-12-24T06:46:34.156304Z",
     "shell.execute_reply.started": "2021-12-24T06:46:28.589606Z"
    }
   },
   "outputs": [],
   "source": [
    "test_model(xgb)"
   ]
  },
  {
   "cell_type": "markdown",
   "metadata": {},
   "source": [
    "# Building The Lasso Model"
   ]
  },
  {
   "cell_type": "code",
   "execution_count": null,
   "metadata": {
    "execution": {
     "iopub.execute_input": "2021-12-24T06:47:10.556286Z",
     "iopub.status.busy": "2021-12-24T06:47:10.555906Z",
     "iopub.status.idle": "2021-12-24T06:47:10.589995Z",
     "shell.execute_reply": "2021-12-24T06:47:10.58867Z",
     "shell.execute_reply.started": "2021-12-24T06:47:10.556246Z"
    }
   },
   "outputs": [],
   "source": [
    "Las.fit(X_train,y_train)\n",
    "y_pred = np.exp(Las.predict(X_test)).round(2)"
   ]
  },
  {
   "cell_type": "code",
   "execution_count": null,
   "metadata": {
    "execution": {
     "iopub.execute_input": "2021-12-24T06:47:20.437583Z",
     "iopub.status.busy": "2021-12-24T06:47:20.437238Z",
     "iopub.status.idle": "2021-12-24T06:47:20.445328Z",
     "shell.execute_reply": "2021-12-24T06:47:20.444273Z",
     "shell.execute_reply.started": "2021-12-24T06:47:20.437547Z"
    }
   },
   "outputs": [],
   "source": [
    "y_pred"
   ]
  },
  {
   "cell_type": "markdown",
   "metadata": {},
   "source": [
    "# HyperParameter Tuning"
   ]
  },
  {
   "cell_type": "markdown",
   "metadata": {},
   "source": [
    "# SVM"
   ]
  },
  {
   "cell_type": "code",
   "execution_count": null,
   "metadata": {
    "execution": {
     "iopub.execute_input": "2021-12-24T06:47:32.597816Z",
     "iopub.status.busy": "2021-12-24T06:47:32.597493Z",
     "iopub.status.idle": "2021-12-24T06:47:32.604115Z",
     "shell.execute_reply": "2021-12-24T06:47:32.603303Z",
     "shell.execute_reply.started": "2021-12-24T06:47:32.597785Z"
    }
   },
   "outputs": [],
   "source": [
    "from sklearn.model_selection import RandomizedSearchCV, GridSearchCV\n",
    "params = {'kernel': ['rbf'],\n",
    "         'gamma': [1,0.1,0.01,0.001,0.0001,0.0002,0.0003,0.0004],\n",
    "         'C': [0.1,1,10,20,100,1000],\n",
    "         'epsilon': [1,0.2,0.1,0.01,0.001,0.02,0.003,0.004,0.005,0.006,0.007,0.008,0.0001]}"
   ]
  },
  {
   "cell_type": "code",
   "execution_count": null,
   "metadata": {
    "execution": {
     "iopub.execute_input": "2021-12-24T06:47:38.289537Z",
     "iopub.status.busy": "2021-12-24T06:47:38.288538Z",
     "iopub.status.idle": "2021-12-24T06:48:46.538616Z",
     "shell.execute_reply": "2021-12-24T06:48:46.537417Z",
     "shell.execute_reply.started": "2021-12-24T06:47:38.289482Z"
    }
   },
   "outputs": [],
   "source": [
    "rand_search = RandomizedSearchCV(Svm , param_distributions=params , n_jobs=-1 , cv=11)\n",
    "rand_search.fit(X_train,y_train)\n",
    "rand_search.best_score_"
   ]
  },
  {
   "cell_type": "code",
   "execution_count": null,
   "metadata": {
    "execution": {
     "iopub.execute_input": "2021-12-24T06:48:46.543362Z",
     "iopub.status.busy": "2021-12-24T06:48:46.541379Z",
     "iopub.status.idle": "2021-12-24T06:48:49.875328Z",
     "shell.execute_reply": "2021-12-24T06:48:49.87422Z",
     "shell.execute_reply.started": "2021-12-24T06:48:46.5433Z"
    }
   },
   "outputs": [],
   "source": [
    "Svm2 = SVR(kernel='rbf',C= 20, epsilon= 0.008, gamma=0.0003)\n",
    "test_model(Svm2)"
   ]
  },
  {
   "cell_type": "markdown",
   "metadata": {},
   "source": [
    "# XGBoost"
   ]
  },
  {
   "cell_type": "code",
   "execution_count": null,
   "metadata": {
    "execution": {
     "iopub.execute_input": "2021-12-24T06:49:23.178352Z",
     "iopub.status.busy": "2021-12-24T06:49:23.178041Z",
     "iopub.status.idle": "2021-12-24T06:51:24.443568Z",
     "shell.execute_reply": "2021-12-24T06:51:24.442439Z",
     "shell.execute_reply.started": "2021-12-24T06:49:23.178318Z"
    }
   },
   "outputs": [],
   "source": [
    "xgb3 = xgboost.XGBRegressor(learning_rate=0.01,n_estimators=3460,\n",
    "                                     max_depth=3, min_child_weight=0,\n",
    "                                     gamma=0, subsample=0.7,\n",
    "                                     colsample_bytree=0.7,\n",
    "                                     objective='reg:linear', nthread=-1,\n",
    "                                     scale_pos_weight=1, seed=27,\n",
    "                                     reg_alpha=0.00006)\n",
    "\n",
    "test_model(xgb3)"
   ]
  },
  {
   "cell_type": "code",
   "execution_count": null,
   "metadata": {
    "execution": {
     "iopub.execute_input": "2021-12-24T06:51:24.44865Z",
     "iopub.status.busy": "2021-12-24T06:51:24.445447Z",
     "iopub.status.idle": "2021-12-24T06:51:37.356277Z",
     "shell.execute_reply": "2021-12-24T06:51:37.355564Z",
     "shell.execute_reply.started": "2021-12-24T06:51:24.44859Z"
    }
   },
   "outputs": [],
   "source": [
    "xgb3.fit(X_train,y_train)\n",
    "y_pred_xgb3 = np.exp(xgb3.predict(X_test)).round(2)"
   ]
  },
  {
   "cell_type": "code",
   "execution_count": null,
   "metadata": {
    "execution": {
     "iopub.execute_input": "2021-12-24T06:51:37.3584Z",
     "iopub.status.busy": "2021-12-24T06:51:37.357906Z",
     "iopub.status.idle": "2021-12-24T06:51:37.365639Z",
     "shell.execute_reply": "2021-12-24T06:51:37.364799Z",
     "shell.execute_reply.started": "2021-12-24T06:51:37.358364Z"
    }
   },
   "outputs": [],
   "source": [
    "submit_test1 = pd.concat([ID,pd.DataFrame(y_pred_xgb3)],axis=1)\n",
    "submit_test1.columns = ['Id','SalePrice']"
   ]
  },
  {
   "cell_type": "code",
   "execution_count": null,
   "metadata": {
    "execution": {
     "iopub.execute_input": "2021-12-24T06:51:37.368104Z",
     "iopub.status.busy": "2021-12-24T06:51:37.367415Z",
     "iopub.status.idle": "2021-12-24T06:51:37.38854Z",
     "shell.execute_reply": "2021-12-24T06:51:37.387527Z",
     "shell.execute_reply.started": "2021-12-24T06:51:37.368055Z"
    }
   },
   "outputs": [],
   "source": [
    "submit_test1"
   ]
  },
  {
   "cell_type": "code",
   "execution_count": null,
   "metadata": {
    "execution": {
     "iopub.execute_input": "2021-12-24T06:51:37.390729Z",
     "iopub.status.busy": "2021-12-24T06:51:37.389874Z",
     "iopub.status.idle": "2021-12-24T06:51:37.403917Z",
     "shell.execute_reply": "2021-12-24T06:51:37.40305Z",
     "shell.execute_reply.started": "2021-12-24T06:51:37.390674Z"
    }
   },
   "outputs": [],
   "source": [
    "# Submitting the output\n",
    "submit_test1.to_csv('submission.csv',index=False)"
   ]
  },
  {
   "cell_type": "markdown",
   "metadata": {},
   "source": [
    "# Give this Notebook an Upvote if it was anyways hepful to you, \n",
    "# Thank You"
   ]
  }
 ],
 "metadata": {
  "kernelspec": {
   "display_name": "Python 3",
   "language": "python",
   "name": "python3"
  },
  "language_info": {
   "codemirror_mode": {
    "name": "ipython",
    "version": 3
   },
   "file_extension": ".py",
   "mimetype": "text/x-python",
   "name": "python",
   "nbconvert_exporter": "python",
   "pygments_lexer": "ipython3",
   "version": "3.6.4"
  }
 },
 "nbformat": 4,
 "nbformat_minor": 4
}
